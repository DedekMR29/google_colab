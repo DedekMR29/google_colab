{
  "nbformat": 4,
  "nbformat_minor": 0,
  "metadata": {
    "colab": {
      "provenance": [],
      "gpuType": "T4",
      "mount_file_id": "1OCYRxrgY70Lnpu3sxTiSaR550FoLK2qd",
      "authorship_tag": "ABX9TyPhFOtJm4jo5LlvV9rYJVJo",
      "include_colab_link": true
    },
    "kernelspec": {
      "name": "python3",
      "display_name": "Python 3"
    },
    "language_info": {
      "name": "python"
    },
    "accelerator": "GPU",
    "gpuClass": "standard"
  },
  "cells": [
    {
      "cell_type": "markdown",
      "metadata": {
        "id": "view-in-github",
        "colab_type": "text"
      },
      "source": [
        "<a href=\"https://colab.research.google.com/github/DedekMR29/google_colab/blob/main/jaringanSarafTiruan.ipynb\" target=\"_parent\"><img src=\"https://colab.research.google.com/assets/colab-badge.svg\" alt=\"Open In Colab\"/></a>"
      ]
    },
    {
      "cell_type": "code",
      "source": [
        "import matplotlib.pyplot as plt\n",
        "import numpy as np\n",
        "x1 = np.array([1 ,0])\n",
        "x2 = np.array([0 ,1])\n",
        "t = np.array([0 ,1])\n",
        "\n",
        "#menentukan Learning Rate\n",
        "alpha = 0.5\n",
        "#inisialisasi bobot\n",
        "w1 = 0.5\n",
        "w2 = 0.5\n",
        "b = 0.2\n",
        "loss = [];\n",
        "for epoh in range(5) :\n",
        "  loss.append(0)\n",
        "  for NoData in range(2) :\n",
        "    #menghitung Jumlah input berbobot\n",
        "    net = x1[NoData]*w1+x2[NoData]*w2+b\n",
        "    #menerapkan fungsi aktivasi untuk memperoleh output y\n",
        "    if net >= 0 :\n",
        "      y = 1\n",
        "    else :\n",
        "      y = 0\n",
        "    #menghitung Error Propagasi\n",
        "    e=t[NoData] - y\n",
        "    #menghitung perubahan bobot\n",
        "    dw1 = e*alpha*x1[NoData]\n",
        "    dw2 = e*alpha*x2[NoData]\n",
        "    db = e*alpha\n",
        "\n",
        "    #memperbarui bobot\n",
        "    w1 = w1+dw1\n",
        "    w2 = w2+dw2\n",
        "    b = b+db\n",
        "    loss[epoh]=loss[epoh]+np.abs(e)\n",
        "#menampilkan Grafik Loss\n",
        "plt.plot(loss)"
      ],
      "metadata": {
        "colab": {
          "base_uri": "https://localhost:8080/",
          "height": 447
        },
        "id": "uSyXRfoygGnA",
        "outputId": "2d669de7-f267-4201-f5e5-68a043a5d452"
      },
      "execution_count": null,
      "outputs": [
        {
          "output_type": "execute_result",
          "data": {
            "text/plain": [
              "[<matplotlib.lines.Line2D at 0x7fe4e00fdc60>]"
            ]
          },
          "metadata": {},
          "execution_count": 6
        },
        {
          "output_type": "display_data",
          "data": {
            "text/plain": [
              "<Figure size 640x480 with 1 Axes>"
            ],
            "image/png": "[encoded data removed]"
          },
          "metadata": {}
        }
      ]
    },
    {
      "cell_type": "code",
      "source": [
        "from google.colab import drive\n",
        "drive.mount('/content/drive')"
      ],
      "metadata": {
        "colab": {
          "base_uri": "https://localhost:8080/"
        },
        "id": "utu7hoOPO1MQ",
        "outputId": "22c09012-2339-4b59-cef9-05604a22f905"
      },
      "execution_count": null,
      "outputs": [
        {
          "output_type": "stream",
          "name": "stdout",
          "text": [
            "Drive already mounted at /content/drive; to attempt to forcibly remount, call drive.mount(\"/content/drive\", force_remount=True).\n"
          ]
        }
      ]
    },
    {
      "cell_type": "code",
      "source": [
        "%cd '/content/drive/MyDrive'"
      ],
      "metadata": {
        "colab": {
          "base_uri": "https://localhost:8080/"
        },
        "id": "LJy4OIw2PnVf",
        "outputId": "c2c4ac60-e0db-47f3-a7b7-511a99d39b3f"
      },
      "execution_count": null,
      "outputs": [
        {
          "output_type": "stream",
          "name": "stdout",
          "text": [
            "/content/drive/MyDrive\n"
          ]
        }
      ]
    },
    {
      "cell_type": "code",
      "source": [
        "import matplotlib.pyplot as plt\n",
        "import numpy as np\n",
        "#Program ini terdiri dari dua fungsi yaitu :\n",
        "# 1. Fungsi Training JST Perception\n",
        "# 1. Fungsi Prediksi\n",
        "\n",
        "#membuat fungsi untuk training perceptron dengan jumlah vektor input\n",
        "#dan output jamak\n",
        "def TrainingPerceptron(x,T) :\n",
        "  #parameter JST :\n",
        "  # 1. Fungsi Aktivasi = sigmoid\n",
        "  # 2. Learning Rate (alpha)=0.5\n",
        "  # 3. Fungsi Loss Jumlah Absolut Error Tiap Iterasi\n",
        "  # 4. Jumlah iterasi (epoh) = 1000\n",
        "\n",
        "  #langkah 1. inisialisasi Data\n",
        "  JumlahData = x.shape[0]\n",
        "  JumlahVektorInput = x.shape[1]\n",
        "  JumlahVektorOutput = T.shape[1]\n",
        "\n",
        "  #langkah 2 inisialisasi bobot dengan bilangan random dengan nilai maksimum 0.5\n",
        "  w=np.random.rand(JumlahVektorInput, JumlahVektorOutput)*0.5\n",
        "\n",
        "  #langkah 3 menentukan Learning Rate sebesar 0.5\n",
        "  alpha = 0.5\n",
        "  loss = []\n",
        "  \n",
        "  #langkah 4 melakukan iterasi untuk tuning bobot sebanyak 1000 kali\n",
        "  for epoh in range(1000) :\n",
        "    loss.append(0)\n",
        "  #langkah 5. tuning bobot untuk setiap data\n",
        "    for NData in range(JumlahData) :\n",
        "      xi = x[NData : NData+1,:]\n",
        "      net = np.matmul(x1,w)\n",
        "      #menerapkan fungsi aktivasi sigmoid untuk mencari output\n",
        "      y = 1/(1 + np.exp(-net))\n",
        "      #menghitung error Propagasi\n",
        "      e = T[NData : NData+1,:]-y\n",
        "      #menghitung perubahan bobot\n",
        "      dw = alpha*np.matmul(x1.transpose(),e)\n",
        "      w=w+dw\n",
        "      #menhitung loss dengan fungsi sum error\n",
        "      loss[epoh]=loss[epoh] +np.sum(np.abs(e))\n",
        "  return w,loss\n",
        "\n",
        "#membuat fungsi prediksi data xp berdasar bobot w hasil pembelajaran JST\n",
        "def Prediksi(xp,w) :\n",
        "  net = np.matmul(xp,w)\n",
        "  #menerapkan fungsi ativasi sigmoid\n",
        "  yp = 1/(1 + np.exp(-net))\n",
        "  return yp;\n",
        "\n",
        "\n",
        "#======Program Utama========\n",
        "# 1. Pembelajaran JST Perceptron\n",
        "# data input tersimpan di dalam file xjamak.csv\n",
        "# data target tersimpan di dalam file tjamak.csv\n",
        "# membaca file data input X dari file xjamak.csv\n",
        "\n",
        "X = np.loadtxt(\"xJamak.csv\", delimiter=',')\n",
        "#Membaca file data terget T yang dari file $tjamak.csv\n",
        "T = np.loadtxt(\"tJamak.csv\", delimiter=',')\n",
        "\n",
        "#melakukan pembelajaran perceptron\n",
        "w,loss = TrainingPerceptron(X,T)\n",
        "\n",
        "#menampilkan grafik Loss\n",
        "plt.plot(loss)\n",
        "\n",
        "#2. Prediksi berdasar bobot hasil training\n",
        "xp = np.array([[1,0,1,1]])\n",
        "yp = Prediksi(xp,w)\n",
        "\n",
        "print(\"Hasil Prediksi\")\n",
        "print(yp)"
      ],
      "metadata": {
        "colab": {
          "base_uri": "https://localhost:8080/",
          "height": 380
        },
        "id": "05pV3Ye4P9Ee",
        "outputId": "78e705af-f10a-4e33-9f3c-d1fa3ca06bf0"
      },
      "execution_count": null,
      "outputs": [
        {
          "output_type": "error",
          "ename": "ValueError",
          "evalue": "ignored",
          "traceback": [
            "\u001b[0;31m---------------------------------------------------------------------------\u001b[0m",
            "\u001b[0;31mValueError\u001b[0m                                Traceback (most recent call last)",
            "\u001b[0;32m<ipython-input-8-35fe42485502>\u001b[0m in \u001b[0;36m<cell line: 60>\u001b[0;34m()\u001b[0m\n\u001b[1;32m     58\u001b[0m \u001b[0;31m# membaca file data input X dari file xjamak.csv\u001b[0m\u001b[0;34m\u001b[0m\u001b[0;34m\u001b[0m\u001b[0m\n\u001b[1;32m     59\u001b[0m \u001b[0;34m\u001b[0m\u001b[0m\n\u001b[0;32m---> 60\u001b[0;31m \u001b[0mX\u001b[0m \u001b[0;34m=\u001b[0m \u001b[0mnp\u001b[0m\u001b[0;34m.\u001b[0m\u001b[0mloadtxt\u001b[0m\u001b[0;34m(\u001b[0m\u001b[0;34m\"xJamak.csv\"\u001b[0m\u001b[0;34m,\u001b[0m \u001b[0mdelimiter\u001b[0m\u001b[0;34m=\u001b[0m\u001b[0;34m','\u001b[0m\u001b[0;34m)\u001b[0m\u001b[0;34m\u001b[0m\u001b[0;34m\u001b[0m\u001b[0m\n\u001b[0m\u001b[1;32m     61\u001b[0m \u001b[0;31m#Membaca file data terget T yang dari file $tjamak.csv\u001b[0m\u001b[0;34m\u001b[0m\u001b[0;34m\u001b[0m\u001b[0m\n\u001b[1;32m     62\u001b[0m \u001b[0mT\u001b[0m \u001b[0;34m=\u001b[0m \u001b[0mnp\u001b[0m\u001b[0;34m.\u001b[0m\u001b[0mloadtxt\u001b[0m\u001b[0;34m(\u001b[0m\u001b[0;34m\"tJamak.csv\"\u001b[0m\u001b[0;34m,\u001b[0m \u001b[0mdelimiter\u001b[0m\u001b[0;34m=\u001b[0m\u001b[0;34m','\u001b[0m\u001b[0;34m)\u001b[0m\u001b[0;34m\u001b[0m\u001b[0;34m\u001b[0m\u001b[0m\n",
            "\u001b[0;32m/usr/local/lib/python3.10/dist-packages/numpy/lib/npyio.py\u001b[0m in \u001b[0;36mloadtxt\u001b[0;34m(fname, dtype, comments, delimiter, converters, skiprows, usecols, unpack, ndmin, encoding, max_rows, like)\u001b[0m\n\u001b[1;32m   1161\u001b[0m                 \u001b[0;31m# Convert each value according to its column, then pack it\u001b[0m\u001b[0;34m\u001b[0m\u001b[0;34m\u001b[0m\u001b[0m\n\u001b[1;32m   1162\u001b[0m                 \u001b[0;31m# according to the dtype's nesting, and store it.\u001b[0m\u001b[0;34m\u001b[0m\u001b[0;34m\u001b[0m\u001b[0m\n\u001b[0;32m-> 1163\u001b[0;31m                 \u001b[0mchunk\u001b[0m\u001b[0;34m.\u001b[0m\u001b[0mappend\u001b[0m\u001b[0;34m(\u001b[0m\u001b[0mpacker\u001b[0m\u001b[0;34m(\u001b[0m\u001b[0mconvert_row\u001b[0m\u001b[0;34m(\u001b[0m\u001b[0mwords\u001b[0m\u001b[0;34m)\u001b[0m\u001b[0;34m)\u001b[0m\u001b[0;34m)\u001b[0m\u001b[0;34m\u001b[0m\u001b[0;34m\u001b[0m\u001b[0m\n\u001b[0m\u001b[1;32m   1164\u001b[0m             \u001b[0;32mif\u001b[0m \u001b[0;32mnot\u001b[0m \u001b[0mchunk\u001b[0m\u001b[0;34m:\u001b[0m  \u001b[0;31m# The islice is empty, i.e. we're done.\u001b[0m\u001b[0;34m\u001b[0m\u001b[0;34m\u001b[0m\u001b[0m\n\u001b[1;32m   1165\u001b[0m                 \u001b[0;32mbreak\u001b[0m\u001b[0;34m\u001b[0m\u001b[0;34m\u001b[0m\u001b[0m\n",
            "\u001b[0;32m/usr/local/lib/python3.10/dist-packages/numpy/lib/npyio.py\u001b[0m in \u001b[0;36mconvert_row\u001b[0;34m(vals, _conv)\u001b[0m\n\u001b[1;32m   1140\u001b[0m             \u001b[0;31m# equal dtypes.\u001b[0m\u001b[0;34m\u001b[0m\u001b[0;34m\u001b[0m\u001b[0m\n\u001b[1;32m   1141\u001b[0m             \u001b[0;32mdef\u001b[0m \u001b[0mconvert_row\u001b[0m\u001b[0;34m(\u001b[0m\u001b[0mvals\u001b[0m\u001b[0;34m,\u001b[0m \u001b[0m_conv\u001b[0m\u001b[0;34m=\u001b[0m\u001b[0mconverters\u001b[0m\u001b[0;34m[\u001b[0m\u001b[0;36m0\u001b[0m\u001b[0;34m]\u001b[0m\u001b[0;34m)\u001b[0m\u001b[0;34m:\u001b[0m\u001b[0;34m\u001b[0m\u001b[0;34m\u001b[0m\u001b[0m\n\u001b[0;32m-> 1142\u001b[0;31m                 \u001b[0;32mreturn\u001b[0m \u001b[0;34m[\u001b[0m\u001b[0;34m*\u001b[0m\u001b[0mmap\u001b[0m\u001b[0;34m(\u001b[0m\u001b[0m_conv\u001b[0m\u001b[0;34m,\u001b[0m \u001b[0mvals\u001b[0m\u001b[0;34m)\u001b[0m\u001b[0;34m]\u001b[0m\u001b[0;34m\u001b[0m\u001b[0;34m\u001b[0m\u001b[0m\n\u001b[0m\u001b[1;32m   1143\u001b[0m         \u001b[0;32melse\u001b[0m\u001b[0;34m:\u001b[0m\u001b[0;34m\u001b[0m\u001b[0;34m\u001b[0m\u001b[0m\n\u001b[1;32m   1144\u001b[0m             \u001b[0;32mdef\u001b[0m \u001b[0mconvert_row\u001b[0m\u001b[0;34m(\u001b[0m\u001b[0mvals\u001b[0m\u001b[0;34m)\u001b[0m\u001b[0;34m:\u001b[0m\u001b[0;34m\u001b[0m\u001b[0;34m\u001b[0m\u001b[0m\n",
            "\u001b[0;32m/usr/local/lib/python3.10/dist-packages/numpy/lib/npyio.py\u001b[0m in \u001b[0;36m_floatconv\u001b[0;34m(x)\u001b[0m\n\u001b[1;32m    723\u001b[0m \u001b[0;32mdef\u001b[0m \u001b[0m_floatconv\u001b[0m\u001b[0;34m(\u001b[0m\u001b[0mx\u001b[0m\u001b[0;34m)\u001b[0m\u001b[0;34m:\u001b[0m\u001b[0;34m\u001b[0m\u001b[0;34m\u001b[0m\u001b[0m\n\u001b[1;32m    724\u001b[0m     \u001b[0;32mtry\u001b[0m\u001b[0;34m:\u001b[0m\u001b[0;34m\u001b[0m\u001b[0;34m\u001b[0m\u001b[0m\n\u001b[0;32m--> 725\u001b[0;31m         \u001b[0;32mreturn\u001b[0m \u001b[0mfloat\u001b[0m\u001b[0;34m(\u001b[0m\u001b[0mx\u001b[0m\u001b[0;34m)\u001b[0m  \u001b[0;31m# The fastest path.\u001b[0m\u001b[0;34m\u001b[0m\u001b[0;34m\u001b[0m\u001b[0m\n\u001b[0m\u001b[1;32m    726\u001b[0m     \u001b[0;32mexcept\u001b[0m \u001b[0mValueError\u001b[0m\u001b[0;34m:\u001b[0m\u001b[0;34m\u001b[0m\u001b[0;34m\u001b[0m\u001b[0m\n\u001b[1;32m    727\u001b[0m         \u001b[0;32mif\u001b[0m \u001b[0;34m'0x'\u001b[0m \u001b[0;32min\u001b[0m \u001b[0mx\u001b[0m\u001b[0;34m:\u001b[0m  \u001b[0;31m# Don't accidentally convert \"a\" (\"0xa\") to 10.\u001b[0m\u001b[0;34m\u001b[0m\u001b[0;34m\u001b[0m\u001b[0m\n",
            "\u001b[0;31mValueError\u001b[0m: could not convert string to float: '1\\t1\\t0\\t1'"
          ]
        }
      ]
    }
  ]
}